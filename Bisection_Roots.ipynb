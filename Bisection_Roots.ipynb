{
 "cells": [
  {
   "cell_type": "code",
   "execution_count": 32,
   "metadata": {},
   "outputs": [],
   "source": [
    "def bisection(f,a,b,N,e):\n",
    "    '''Approximate solution to the root finding problem \n",
    "    for a given function f, of the form f(x)=0, on the interval [a,b].\n",
    "    \n",
    "    --- Criteria ---\n",
    "    The function f must be continuous on the interval [a,b], with f(a)\n",
    "    and f(b) of opposite sign, by the Mean Value Theorem, we thus know \n",
    "    there exists at least one root.\n",
    "       \n",
    "    --- Parameters ---\n",
    "    f : function \n",
    "    a : lower bound \n",
    "    b : upper bound \n",
    "    N : maximum number of iterations before force quitting \n",
    "    e : maximum error allowed (tolerance)\n",
    "    \n",
    "    --- Return ---\n",
    "    Approximated root p such that f(p)<e, or real root such that f(p)=0.'''\n",
    "    \n",
    "    fa = f(a)\n",
    "    fb = f(b)\n",
    "    if fa*fb >= 0:\n",
    "        print(\"Criteria not met for bisection method.\")\n",
    "        return None\n",
    "    if fa == 0:\n",
    "        return a\n",
    "    if fb == 0:\n",
    "        return b\n",
    "        \n",
    "    a_n = a\n",
    "    b_n = b\n",
    "    i = 1\n",
    "    while i < N:\n",
    "        p_n = (a_n + (b_n - a_n)/2)\n",
    "        fp = f(p_n)\n",
    "        print(f'p_{str(i).ljust(2)} = {p_n:8.14f}')\n",
    "        \n",
    "        if fp == 0 or (b_n - a_n)/2 < e:\n",
    "            print(f'\\np found after {i} iterations.')\n",
    "            return p_n\n",
    "        \n",
    "        i += 1\n",
    "        if fa*fp < 0:\n",
    "            b_n = p_n\n",
    "        else:\n",
    "            a_n = p_n\n",
    "    print(\"Method failed after \" + str(N) + \" iterations.\")"
   ]
  },
  {
   "cell_type": "code",
   "execution_count": 33,
   "metadata": {},
   "outputs": [
    {
     "name": "stdout",
     "output_type": "stream",
     "text": [
      "p_1  = 1.50000000000000\n",
      "p_2  = 1.75000000000000\n",
      "p_3  = 1.62500000000000\n",
      "p_4  = 1.56250000000000\n",
      "p_5  = 1.59375000000000\n",
      "p_6  = 1.60937500000000\n",
      "p_7  = 1.61718750000000\n",
      "p_8  = 1.62109375000000\n",
      "p_9  = 1.61914062500000\n",
      "p_10 = 1.61816406250000\n",
      "p_11 = 1.61767578125000\n",
      "p_12 = 1.61791992187500\n",
      "p_13 = 1.61804199218750\n",
      "p_14 = 1.61798095703125\n",
      "\n",
      "p found after 14 iterations.\n"
     ]
    }
   ],
   "source": [
    "fx = lambda x : x**2 - x - 1\n",
    "approx_root = bisection(fx,1,2,100,10**(-4))"
   ]
  },
  {
   "cell_type": "code",
   "execution_count": null,
   "metadata": {},
   "outputs": [],
   "source": []
  }
 ],
 "metadata": {
  "kernelspec": {
   "display_name": "Python 3",
   "language": "python",
   "name": "python3"
  },
  "language_info": {
   "codemirror_mode": {
    "name": "ipython",
    "version": 3
   },
   "file_extension": ".py",
   "mimetype": "text/x-python",
   "name": "python",
   "nbconvert_exporter": "python",
   "pygments_lexer": "ipython3",
   "version": "3.7.4"
  }
 },
 "nbformat": 4,
 "nbformat_minor": 2
}
