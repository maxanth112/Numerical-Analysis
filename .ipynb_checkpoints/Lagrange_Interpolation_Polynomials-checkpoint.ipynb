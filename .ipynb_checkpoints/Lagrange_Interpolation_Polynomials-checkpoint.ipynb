{
 "cells": [
  {
   "cell_type": "code",
   "execution_count": 87,
   "metadata": {},
   "outputs": [],
   "source": [
    "class Point: \n",
    "    def __init__(self, x, fx):\n",
    "        self.x = x\n",
    "        self.fx = fx\n",
    "        \n",
    "def lagrange_interpolation(p : list, x_p : float, n : int, p_out = True) -> float:\n",
    "    ''' Max Wiesner \n",
    "        3/1/21\n",
    "    \n",
    "    Approximation by Lagrange interpolation by constructing Lagrange Polynomials of degree n,\n",
    "    given a set of known points.\n",
    "    \n",
    "    --- Criteria ---\n",
    "    The degree n of approximation requires n + 1 unique points to by given. \n",
    "       \n",
    "    --- Parameters ---\n",
    "    p     : list of known unique points  \n",
    "    x_p   : the point in question to be approximated \n",
    "    n     : the degree of the Lagrange polynomial to be constructed for the approximation\n",
    "    p_out : disable of enable a printout of the given problem, default is true\n",
    "    \n",
    "    --- Returns ---\n",
    "    x_r : result, the approximated value using Lagrange interpolating polynomial of degree n '''\n",
    "    \n",
    "    if (len(p) < n): \n",
    "        print(f'Not enough known points provided for a lagrange interpolation of degree ${degree}')\n",
    "    \n",
    "    x_r = 0.0\n",
    "    polynomial = ['']*n\n",
    "    \n",
    "    for i in range(n):\n",
    "        \n",
    "        L_i = 1\n",
    "        for j in range(n):\n",
    "            if i != j:\n",
    "                L_i *= (x_p - p[j].x) / (p[i].x - p[j].x)\n",
    "                polynomial[i] += f'((x - {p[j].x})/({p[i].x} - {p[j].x}))'\n",
    "                \n",
    "        x_r += p[i].fx*L_i\n",
    "        polynomial[i] = f'({p[i].fx:.5f})' + polynomial[i]\n",
    "    \n",
    "    # printing out the constructed degree n Lagrange polynomial and the approximation\n",
    "    if p_out:\n",
    "        for i in range(len(polynomial)):\n",
    "            start = 'P(x) = ' if i == 0 else ' '*len('P(x) = ')\n",
    "            print(f'{start} {polynomial[i]} + ')\n",
    "        print(f'\\nP({x_p}) = {x_r}')\n",
    "        \n",
    "    return x_r"
   ]
  },
  {
   "cell_type": "code",
   "execution_count": 88,
   "metadata": {},
   "outputs": [
    {
     "name": "stdout",
     "output_type": "stream",
     "text": [
      "P(x) =  (16.94410)((x - 8.3)/(8.1 - 8.3))((x - 8.6)/(8.1 - 8.6))((x - 8.7)/(8.1 - 8.7)) + \n",
      "        (17.56492)((x - 8.1)/(8.3 - 8.1))((x - 8.6)/(8.3 - 8.6))((x - 8.7)/(8.3 - 8.7)) + \n",
      "        (18.50515)((x - 8.1)/(8.6 - 8.1))((x - 8.3)/(8.6 - 8.3))((x - 8.7)/(8.6 - 8.7)) + \n",
      "        (18.82091)((x - 8.1)/(8.7 - 8.1))((x - 8.3)/(8.7 - 8.3))((x - 8.6)/(8.7 - 8.6)) + \n",
      "\n",
      "P(8.4) = 17.8771425\n"
     ]
    }
   ],
   "source": [
    "# funciton calls\n",
    "if __name__ == \"__main__\":\n",
    "    \n",
    "    x_p = 8.4\n",
    "    degree = 4\n",
    "    known_points = [Point(8.1, 16.9441), Point(8.3, 17.56492), \n",
    "                    Point(8.6, 18.50515), Point(8.7, 18.82091)]\n",
    "\n",
    "    fx_p = lagrange_interpolation(known_points, x_p, degree)"
   ]
  },
  {
   "cell_type": "code",
   "execution_count": null,
   "metadata": {},
   "outputs": [],
   "source": []
  },
  {
   "cell_type": "code",
   "execution_count": null,
   "metadata": {},
   "outputs": [],
   "source": []
  }
 ],
 "metadata": {
  "kernelspec": {
   "display_name": "Python 3",
   "language": "python",
   "name": "python3"
  },
  "language_info": {
   "codemirror_mode": {
    "name": "ipython",
    "version": 3
   },
   "file_extension": ".py",
   "mimetype": "text/x-python",
   "name": "python",
   "nbconvert_exporter": "python",
   "pygments_lexer": "ipython3",
   "version": "3.7.4"
  }
 },
 "nbformat": 4,
 "nbformat_minor": 2
}
