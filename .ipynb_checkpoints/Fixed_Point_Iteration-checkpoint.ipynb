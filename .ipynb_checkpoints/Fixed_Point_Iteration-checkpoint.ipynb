{
 "cells": [
  {
   "cell_type": "code",
   "execution_count": 5,
   "metadata": {},
   "outputs": [],
   "source": [
    "def fixed_point(g,p_0,N,e):\n",
    "    ''' Max Wiesner \n",
    "        2/15/21\n",
    "    \n",
    "    Finds the number p for the function g such that g(p)=p. \n",
    "    \n",
    "    --- Criteria ---\n",
    "    The function g must be C[a,b] and g(x) in [a,b] for all x in [a,b]. \n",
    "    This guarantees at least one fixed point in the interval, if in \n",
    "    addition, g'(x) exists on (a,b) and a positive k < 1 exists with \n",
    "    |g'(x)|<=k for all x in (a,b), then there exists exactly one fixed \n",
    "    point in [a,b].\n",
    "    \n",
    "    --- Parameters ---\n",
    "    g   : function \n",
    "    p_0 : starting p value \n",
    "    N   : maximum amount of iterations allowed \n",
    "    e   : tolerance, maximum error allowed \n",
    "    \n",
    "    --- Returns ---\n",
    "    fixed point p within the given tolerance. '''\n",
    "    \n",
    "    i = 1\n",
    "    while i <= N:\n",
    "        p_n = g(p_0)\n",
    "        \n",
    "        print(f'p_{str(i).ljust(2)} = {p_n:8.14f}')\n",
    "        if abs(p_n - p_0) < e:            \n",
    "            print(f'\\np found after {i} iterations.')\n",
    "            return p_n\n",
    "        \n",
    "        i += 1\n",
    "        p_0 = p_n\n",
    "    print(f\"/nThe method failed after {N} iterations. \")\n",
    "    return None"
   ]
  },
  {
   "cell_type": "code",
   "execution_count": 6,
   "metadata": {},
   "outputs": [
    {
     "name": "stdout",
     "output_type": "stream",
     "text": [
      "p_1  = 0.57735026918963\n",
      "p_2  = 0.79622521701813\n",
      "p_3  = 0.74613876752773\n",
      "p_4  = 0.75676427641586\n",
      "p_5  = 0.75447222128695\n",
      "p_6  = 0.75496488440302\n",
      "p_7  = 0.75485890807753\n",
      "p_8  = 0.75488170078333\n",
      "\n",
      "p found after 8 iterations.\n"
     ]
    },
    {
     "data": {
      "text/plain": [
       "0.7548817007833306"
      ]
     },
     "execution_count": 6,
     "metadata": {},
     "output_type": "execute_result"
    }
   ],
   "source": [
    "import math\n",
    "g = lambda x : 1/math.sqrt(1+x)\n",
    "fixed_point(g,2,100,10e-5)"
   ]
  },
  {
   "cell_type": "code",
   "execution_count": null,
   "metadata": {},
   "outputs": [],
   "source": []
  }
 ],
 "metadata": {
  "kernelspec": {
   "display_name": "Python 3",
   "language": "python",
   "name": "python3"
  },
  "language_info": {
   "codemirror_mode": {
    "name": "ipython",
    "version": 3
   },
   "file_extension": ".py",
   "mimetype": "text/x-python",
   "name": "python",
   "nbconvert_exporter": "python",
   "pygments_lexer": "ipython3",
   "version": "3.7.4"
  }
 },
 "nbformat": 4,
 "nbformat_minor": 2
}
